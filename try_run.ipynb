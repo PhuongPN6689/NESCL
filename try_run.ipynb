{
 "cells": [
  {
   "cell_type": "code",
   "id": "initial_id",
   "metadata": {
    "collapsed": true,
    "ExecuteTime": {
     "end_time": "2024-11-16T09:03:39.774387Z",
     "start_time": "2024-11-16T09:03:39.764265Z"
    }
   },
   "source": "# !python run_recbole_autodl.py --model=LightGCN --dataset=yelp2018 --config=True --dataloader_file=models/yelp2018-for-SUPCCL-dataloader.pth",
   "outputs": [],
   "execution_count": 1
  },
  {
   "metadata": {},
   "cell_type": "code",
   "outputs": [],
   "execution_count": null,
   "source": "# !python run_recbole_autodl.py --model=LightGCN --dataset=vac --config=True",
   "id": "abf0d29a95095b1a"
  },
  {
   "metadata": {
    "ExecuteTime": {
     "end_time": "2024-11-17T03:28:01.404359Z",
     "start_time": "2024-11-17T03:28:01.381324Z"
    }
   },
   "cell_type": "code",
   "source": "# !python run_recbole_autodl.py --model=LightGCN --dataset=vac --config=True --dataloader_file=saved/vac-for-LightGCN-dataloader.pth",
   "id": "41867bb23ed29ced",
   "outputs": [],
   "execution_count": 1
  },
  {
   "metadata": {
    "ExecuteTime": {
     "end_time": "2024-11-17T11:28:04.664433Z",
     "start_time": "2024-11-17T11:28:04.647351Z"
    }
   },
   "cell_type": "code",
   "source": "# !python run_recbole_autodl.py --model=SUPCCL --dataset=vac --config=True",
   "id": "e021279a01b0f3df",
   "outputs": [],
   "execution_count": 1
  },
  {
   "metadata": {
    "ExecuteTime": {
     "end_time": "2024-11-17T11:43:17.305480Z",
     "start_time": "2024-11-17T11:43:07.798001Z"
    }
   },
   "cell_type": "code",
   "source": "!python run_recbole_autodl.py --model=LDiffRec --dataset=vac --config=True",
   "id": "868e725c4b16a67c",
   "outputs": [
    {
     "name": "stderr",
     "output_type": "stream",
     "text": [
      "Traceback (most recent call last):\n",
      "  File \"run_recbole_autodl.py\", line 40, in <module>\n",
      "    run_recbole(model=args.model, dataset=args.dataset, config_file_list=config_file_list, dataloader_file=args.dataloader_file)\n",
      "  File \"D:\\Projects\\NESCL\\recbole\\quick_start\\quick_start.py\", line 95, in run_recbole\n",
      "    config = Config(model=model, dataset=dataset, config_file_list=config_file_list, config_dict=config_dict)\n",
      "  File \"D:\\Projects\\NESCL\\recbole\\config\\configurator.py\", line 75, in __init__\n",
      "    self.model, self.model_class, self.dataset = self._get_model_and_dataset(model, dataset)\n",
      "  File \"D:\\Projects\\NESCL\\recbole\\config\\configurator.py\", line 189, in _get_model_and_dataset\n",
      "    final_model_class = get_model(final_model)\n",
      "  File \"D:\\Projects\\NESCL\\recbole\\utils\\utils.py\", line 75, in get_model\n",
      "    raise ValueError('`model_name` [{}] is not the name of an existing model.'.format(model_name))\n",
      "ValueError: `model_name` [LDiffRec] is not the name of an existing model.\n"
     ]
    }
   ],
   "execution_count": 7
  },
  {
   "metadata": {
    "ExecuteTime": {
     "end_time": "2024-11-17T11:44:54.622654Z",
     "start_time": "2024-11-17T11:44:49.582186Z"
    }
   },
   "cell_type": "code",
   "source": "!python run_recbole_autodl.py --model=DiffRec --dataset=vac --config=True",
   "id": "43c893a4b0818cb7",
   "outputs": [
    {
     "name": "stderr",
     "output_type": "stream",
     "text": [
      "Traceback (most recent call last):\n",
      "  File \"run_recbole_autodl.py\", line 40, in <module>\n",
      "    run_recbole(model=args.model, dataset=args.dataset, config_file_list=config_file_list, dataloader_file=args.dataloader_file)\n",
      "  File \"D:\\Projects\\NESCL\\recbole\\quick_start\\quick_start.py\", line 95, in run_recbole\n",
      "    config = Config(model=model, dataset=dataset, config_file_list=config_file_list, config_dict=config_dict)\n",
      "  File \"D:\\Projects\\NESCL\\recbole\\config\\configurator.py\", line 75, in __init__\n",
      "    self.model, self.model_class, self.dataset = self._get_model_and_dataset(model, dataset)\n",
      "  File \"D:\\Projects\\NESCL\\recbole\\config\\configurator.py\", line 189, in _get_model_and_dataset\n",
      "    final_model_class = get_model(final_model)\n",
      "  File \"D:\\Projects\\NESCL\\recbole\\utils\\utils.py\", line 75, in get_model\n",
      "    raise ValueError('`model_name` [{}] is not the name of an existing model.'.format(model_name))\n",
      "ValueError: `model_name` [DiffRec] is not the name of an existing model.\n"
     ]
    }
   ],
   "execution_count": 8
  },
  {
   "metadata": {
    "ExecuteTime": {
     "end_time": "2024-11-17T11:44:59.449808Z",
     "start_time": "2024-11-17T11:44:54.717702Z"
    }
   },
   "cell_type": "code",
   "source": "!python run_recbole_autodl.py --model=SGL --dataset=vac --config=True",
   "id": "9bd6f644ad92208d",
   "outputs": [
    {
     "name": "stderr",
     "output_type": "stream",
     "text": [
      "Traceback (most recent call last):\n",
      "  File \"run_recbole_autodl.py\", line 40, in <module>\n",
      "    run_recbole(model=args.model, dataset=args.dataset, config_file_list=config_file_list, dataloader_file=args.dataloader_file)\n",
      "  File \"D:\\Projects\\NESCL\\recbole\\quick_start\\quick_start.py\", line 95, in run_recbole\n",
      "    config = Config(model=model, dataset=dataset, config_file_list=config_file_list, config_dict=config_dict)\n",
      "  File \"D:\\Projects\\NESCL\\recbole\\config\\configurator.py\", line 75, in __init__\n",
      "    self.model, self.model_class, self.dataset = self._get_model_and_dataset(model, dataset)\n",
      "  File \"D:\\Projects\\NESCL\\recbole\\config\\configurator.py\", line 189, in _get_model_and_dataset\n",
      "    final_model_class = get_model(final_model)\n",
      "  File \"D:\\Projects\\NESCL\\recbole\\utils\\utils.py\", line 75, in get_model\n",
      "    raise ValueError('`model_name` [{}] is not the name of an existing model.'.format(model_name))\n",
      "ValueError: `model_name` [SGL] is not the name of an existing model.\n"
     ]
    }
   ],
   "execution_count": 9
  },
  {
   "metadata": {
    "ExecuteTime": {
     "end_time": "2024-11-17T11:49:34.374447Z",
     "start_time": "2024-11-17T11:49:06.198746Z"
    }
   },
   "cell_type": "code",
   "source": "!python run_recbole_autodl.py --model=MultiVAE --dataset=vac --config=True",
   "id": "71e14601988a009c",
   "outputs": [
    {
     "name": "stderr",
     "output_type": "stream",
     "text": [
      "17 Nov 18:49    INFO  \n",
      "General Hyper Parameters:\n",
      "gpu_id = 0\n",
      "use_gpu = True\n",
      "seed = 2020\n",
      "state = INFO\n",
      "reproducibility = True\n",
      "data_path = dataset/vac\n",
      "show_progress = True\n",
      "save_dataset = True\n",
      "save_dataloaders = True\n",
      "\n",
      "Training Hyper Parameters:\n",
      "checkpoint_dir = saved\n",
      "epochs = 500\n",
      "train_batch_size = 4096\n",
      "learner = adam\n",
      "learning_rate = 0.001\n",
      "eval_step = 1\n",
      "stopping_step = 10\n",
      "clip_grad_norm = None\n",
      "weight_decay = 0.0\n",
      "loss_decimal_place = 4\n",
      "\n",
      "Evaluation Hyper Parameters:\n",
      "eval_args = {'group_by': 'user', 'order': 'RO', 'split': {'RS': [0.8, 0.1, 0.1]}, 'mode': 'full'}\n",
      "metrics = ['Recall', 'MRR', 'NDCG', 'Hit', 'Precision']\n",
      "topk = [20]\n",
      "valid_metric = Recall@20\n",
      "valid_metric_bigger = True\n",
      "eval_batch_size = 4096\n",
      "metric_decimal_place = 4\n",
      "\n",
      "Dataset Hyper Parameters:\n",
      "seed = 2020\n",
      "epochs = 500\n",
      "train_batch_size = 4096\n",
      "learning_rate = 0.001\n",
      "neg_sampling = {'uniform': 1}\n",
      "eval_args = {'group_by': 'user', 'order': 'RO', 'split': {'RS': [0.8, 0.1, 0.1]}, 'mode': 'full'}\n",
      "metrics = ['Recall', 'MRR', 'NDCG', 'Hit', 'Precision']\n",
      "topk = [20]\n",
      "valid_metric = Recall@20\n",
      "eval_batch_size = 4096\n",
      "metric_decimal_place = 4\n",
      "USER_ID_FIELD = user_id\n",
      "ITEM_ID_FIELD = item_id\n",
      "NEG_PREFIX = neg_\n",
      "load_col = {'inter': ['user_id', 'item_id']}\n",
      "field_separator = ,\n",
      "embedding_size = 64\n",
      "train_data_step = 4096\n",
      "val_data_step = 256\n",
      "test_data_step = 256\n",
      "ssl_reg = 0.3\n",
      "ssl_ratio = 0.3\n",
      "ssl_temp = 0.1\n",
      "ssl_mode = 3\n",
      "n_layers = 2\n",
      "reg_weight = 0.0001\n",
      "aug_type = 0\n",
      "sub_graph_pool = 300\n",
      "ssl_strategy = 9\n",
      "positive_cl_type = 2\n",
      "k = 15\n",
      "lightgcn_flag = False\n",
      "random_strategy = True\n",
      "augmentation = True\n",
      "early_stop = False\n",
      "add_initial_embedding = False\n",
      "pairwise_loss = True\n",
      "interacted_neighbors = True\n",
      "similar_user_neighbors = True\n",
      "similar_item_neighbors = True\n",
      "different_view = True\n",
      "different_view_weight = 1.0\n",
      "interacted_neighbors_weight = 1.0\n",
      "sample_item_weight = 1.0\n",
      "sample_user_weight = 1.0\n",
      "sample_item_weight_flag = False\n",
      "sample_user_weight_flag = False\n",
      "supcon_flag = False\n",
      "prob_sampling = False\n",
      "\n",
      "Other Hyper Parameters: \n",
      "repeatable = False\n",
      "mlp_hidden_size = [600]\n",
      "latent_dimension = 128\n",
      "dropout_prob = 0.5\n",
      "anneal_cap = 0.2\n",
      "total_anneal_steps = 200000\n",
      "MODEL_TYPE = ModelType.GENERAL\n",
      "config = True\n",
      "MODEL_INPUT_TYPE = InputType.PAIRWISE\n",
      "eval_type = EvaluatorType.RANKING\n",
      "device = cpu\n",
      "train_neg_sample_args = {'strategy': 'by', 'by': 1, 'distribution': 'uniform'}\n",
      "eval_neg_sample_args = {'strategy': 'full', 'distribution': 'uniform'}\n",
      "\n",
      "\n",
      "17 Nov 18:49    INFO  Saving filtered dataset into [saved\\vac-dataset.pth]\n",
      "17 Nov 18:49    INFO  vac\n",
      "The number of users: 36752\n",
      "Average actions of users: 10.609860956164457\n",
      "The number of items: 83103\n",
      "Average actions of items: 4.69210127313422\n",
      "The number of inters: 389923\n",
      "The sparsity of the dataset: 99.98723322591462%\n",
      "Remain Fields: ['user_id', 'item_id']\n",
      "17 Nov 18:49    INFO  [Training]: train_batch_size = [4096] negative sampling: [{'uniform': 1}]\n",
      "17 Nov 18:49    INFO  [Evaluation]: eval_batch_size = [4096] eval_args: [{'group_by': 'user', 'order': 'RO', 'split': {'RS': [0.8, 0.1, 0.1]}, 'mode': 'full'}]\n",
      "17 Nov 18:49    INFO  Saving split dataloaders: saved\\vac-for-MultiVAE-dataloader.pth\n",
      "17 Nov 18:49    INFO  Saved split dataloaders: saved\\vac-for-MultiVAE-dataloader.pth\n",
      "Traceback (most recent call last):\n",
      "  File \"run_recbole_autodl.py\", line 40, in <module>\n",
      "    run_recbole(model=args.model, dataset=args.dataset, config_file_list=config_file_list, dataloader_file=args.dataloader_file)\n",
      "  File \"D:\\Projects\\NESCL\\recbole\\quick_start\\quick_start.py\", line 126, in run_recbole\n",
      "    if train_data.neg_sample_num !=  config['train_neg_sample_args']['by']:\n",
      "AttributeError: 'UserDataLoader' object has no attribute 'neg_sample_num'\n"
     ]
    }
   ],
   "execution_count": 11
  },
  {
   "metadata": {
    "ExecuteTime": {
     "end_time": "2024-11-17T12:09:15.128881Z",
     "start_time": "2024-11-17T12:06:14.638273Z"
    }
   },
   "cell_type": "code",
   "source": "!python run_recbole_autodl.py --model=SimpleX --dataset=vac --config=True",
   "id": "831964793d747b54",
   "outputs": [
    {
     "name": "stderr",
     "output_type": "stream",
     "text": [
      "\n",
      "KeyboardInterrupt\n",
      "\n"
     ]
    }
   ],
   "execution_count": 12
  }
 ],
 "metadata": {
  "kernelspec": {
   "display_name": "Python 3",
   "language": "python",
   "name": "python3"
  },
  "language_info": {
   "codemirror_mode": {
    "name": "ipython",
    "version": 2
   },
   "file_extension": ".py",
   "mimetype": "text/x-python",
   "name": "python",
   "nbconvert_exporter": "python",
   "pygments_lexer": "ipython2",
   "version": "2.7.6"
  }
 },
 "nbformat": 4,
 "nbformat_minor": 5
}
